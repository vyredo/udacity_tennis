{
 "cells": [
  {
   "cell_type": "markdown",
   "metadata": {},
   "source": [
    "## Run All to load unity tennis with pretrained Model"
   ]
  },
  {
   "cell_type": "code",
   "execution_count": 1,
   "metadata": {},
   "outputs": [],
   "source": [
    "import os\n",
    "# os.environ['PATH'] = f\"{os.environ['PATH']}:/home/student/.local/bin\"\n",
    "# os.environ['PATH'] = f\"{os.environ['PATH']}:/opt/conda/lib/python3.10/site-packages\"\n",
    "\n",
    "os.environ['PATH'] = f\"{os.environ['PATH']}:/home/vidy/.local/bin\"\n",
    "os.environ['PATH'] = f\"{os.environ['PATH']}:/home/vidy/mambaforge/envs/py310/lib/python3.10/site-packages\"\n",
    "\n",
    "\n",
    "os.environ['PROTOCOL_BUFFERS_PYTHON_IMPLEMENTATION'] = 'python'"
   ]
  },
  {
   "cell_type": "code",
   "execution_count": null,
   "metadata": {},
   "outputs": [
    {
     "name": "stdout",
     "output_type": "stream",
     "text": [
      "Processing /home/vidy/RL_Tennis\n",
      "  Preparing metadata (setup.py) ... \u001b[?25l"
     ]
    }
   ],
   "source": [
    "!pip install .\n"
   ]
  },
  {
   "cell_type": "code",
   "execution_count": null,
   "metadata": {},
   "outputs": [
    {
     "name": "stdout",
     "output_type": "stream",
     "text": [
      "Found path: /home/vidy/RL_Tennis/Tennis.x86_64\n",
      "Mono path[0] = '/home/vidy/RL_Tennis/Tennis_Data/Managed'\n",
      "Mono config path = '/home/vidy/RL_Tennis/Tennis_Data/MonoBleedingEdge/etc'\n",
      "Preloaded 'ScreenSelector.so'\n",
      "Preloaded 'libgrpc_csharp_ext.x64.so'\n",
      "Unable to preload the following plugins:\n",
      "\tScreenSelector.so\n",
      "\tlibgrpc_csharp_ext.x86.so\n",
      "Logging to /home/vidy/.config/unity3d/Unity Technologies/Unity Environment/Player.log\n"
     ]
    },
    {
     "name": "stderr",
     "output_type": "stream",
     "text": [
      "INFO:unityagents:\n",
      "'Academy' started successfully!\n",
      "Unity Academy name: Academy\n",
      "        Number of Brains: 1\n",
      "        Number of External Brains : 1\n",
      "        Lesson number : 0\n",
      "        Reset Parameters :\n",
      "\t\t\n",
      "Unity brain name: TennisBrain\n",
      "        Number of Visual Observations (per agent): 0\n",
      "        Vector Observation space type: continuous\n",
      "        Vector Observation space size (per agent): 8\n",
      "        Number of stacked Vector Observation: 3\n",
      "        Vector Action space type: continuous\n",
      "        Vector Action space size (per agent): 2\n",
      "        Vector Action descriptions: , \n"
     ]
    },
    {
     "name": "stdout",
     "output_type": "stream",
     "text": [
      "Episode 1 - Scores: [0.1  0.19] - Max: 0.19\n",
      "Episode 2 - Scores: [0.09 0.1 ] - Max: 0.10\n",
      "Episode 3 - Scores: [0.2  0.19] - Max: 0.20\n",
      "Episode 4 - Scores: [2.60000004 2.60000004] - Max: 2.60\n",
      "Episode 5 - Scores: [2.60000004 2.60000004] - Max: 2.60\n",
      "Episode 6 - Scores: [-0.01  0.1 ] - Max: 0.10\n",
      "Episode 7 - Scores: [2.50000004 2.60000004] - Max: 2.60\n",
      "Episode 8 - Scores: [2.70000004 2.60000004] - Max: 2.70\n",
      "Episode 9 - Scores: [2.60000004 2.60000004] - Max: 2.60\n",
      "Episode 10 - Scores: [-0.01  0.1 ] - Max: 0.10\n",
      "Average Score over 10 episodes: 1.38\n"
     ]
    }
   ],
   "source": [
    "import numpy as np\n",
    "import torch\n",
    "import os\n",
    "from unityagents import UnityEnvironment\n",
    "from Agent import DDPGAgent\n",
    "\n",
    "# Parameters\n",
    "folder_path = 'Report'\n",
    "GAMMA = 0.99\n",
    "LEARNING_RATE = 1e-3\n",
    "TAU = 0.3\n",
    "DEVICE = 'cuda'\n",
    "BUFFER_SIZE = 1_000_000\n",
    "BATCH_SIZE = 256\n",
    "n_episodes = 10  # For testing, set to 2000 for full evaluation\n",
    "\n",
    "# Function to load pretrained models\n",
    "def load_model(agent_1, agent_2, folder_path):\n",
    "    agent_1.actor_local.load_state_dict(torch.load(os.path.join(folder_path, 'agent1_actor.pth')))\n",
    "    agent_1.critic_local.load_state_dict(torch.load(os.path.join(folder_path, 'agent1_critic.pth')))\n",
    "    agent_2.actor_local.load_state_dict(torch.load(os.path.join(folder_path, 'agent2_actor.pth')))\n",
    "    agent_2.critic_local.load_state_dict(torch.load(os.path.join(folder_path, 'agent2_critic.pth')))\n",
    "\n",
    "# Initialize Unity environment\n",
    "\n",
    "env = UnityEnvironment(file_name=\"Tennis.x86_64\")\n",
    "brain_name = env.brain_names[0]\n",
    "\n",
    "# Get state and action sizes from the environment\n",
    "env_info = env.reset(train_mode=True)[brain_name]\n",
    "state_size = env_info.vector_observations.shape[1]\n",
    "action_size = 2   \n",
    "\n",
    "\n",
    "# Instantiate agents\n",
    "agent_1 = DDPGAgent(state_size, action_size, random_seed=0, device=DEVICE,\n",
    "                    learning_rate=LEARNING_RATE, tau=TAU, buffer_size=BUFFER_SIZE,\n",
    "                    BATCH_SIZE=BATCH_SIZE, gamma=GAMMA)\n",
    "agent_2 = DDPGAgent(state_size, action_size, random_seed=1, device=DEVICE,\n",
    "                    learning_rate=LEARNING_RATE, tau=TAU, buffer_size=BUFFER_SIZE,\n",
    "                    BATCH_SIZE=BATCH_SIZE, gamma=GAMMA)\n",
    "\n",
    "# Load pretrained weights\n",
    "load_model(agent_1, agent_2, folder_path)\n",
    "\n",
    "# List to store episode scores\n",
    "scores_list = []\n",
    "\n",
    "# Run inference\n",
    "for i in range(1, n_episodes + 1):\n",
    "    env_info = env.reset(train_mode=False)[brain_name]  # Visual mode\n",
    "    states = env_info.vector_observations\n",
    "    scores = np.zeros(2)  # Scores for two agents\n",
    "\n",
    "    while True:\n",
    "        # Each agent acts without noise\n",
    "        action_1 = agent_1.act(states[0], add_noise=False)\n",
    "        action_2 = agent_2.act(states[1], add_noise=False)\n",
    "        actions = np.concatenate((action_1, action_2), axis=0)\n",
    "\n",
    "        # Step environment\n",
    "        env_info = env.step(actions)[brain_name]\n",
    "        next_states = env_info.vector_observations\n",
    "        rewards = env_info.rewards\n",
    "        dones = env_info.local_done\n",
    "\n",
    "        scores += rewards\n",
    "        states = next_states\n",
    "\n",
    "        if np.any(dones):\n",
    "            break\n",
    "\n",
    "    max_score = np.max(scores)\n",
    "    scores_list.append(max_score)\n",
    "    print(f\"Episode {i} - Scores: {scores} - Max: {max_score:.2f}\")\n",
    "\n",
    "# Close environment\n",
    "env.close()\n",
    "\n",
    "# Print average score\n",
    "print(f\"Average Score over {n_episodes} episodes: {np.mean(scores_list):.2f}\")\n"
   ]
  },
  {
   "cell_type": "code",
   "execution_count": null,
   "metadata": {},
   "outputs": [],
   "source": []
  }
 ],
 "metadata": {
  "kernelspec": {
   "display_name": "py310",
   "language": "python",
   "name": "python3"
  },
  "language_info": {
   "codemirror_mode": {
    "name": "ipython",
    "version": 3
   },
   "file_extension": ".py",
   "mimetype": "text/x-python",
   "name": "python",
   "nbconvert_exporter": "python",
   "pygments_lexer": "ipython3",
   "version": "3.10.12"
  }
 },
 "nbformat": 4,
 "nbformat_minor": 2
}
